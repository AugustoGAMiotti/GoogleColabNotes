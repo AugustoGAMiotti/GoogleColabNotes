{
  "cells": [
    {
      "cell_type": "markdown",
      "metadata": {
        "id": "view-in-github",
        "colab_type": "text"
      },
      "source": [
        "<a href=\"https://colab.research.google.com/github/AugustoGAMiotti/GoogleColabNotes/blob/main/BeautifulSoup.ipynb\" target=\"_parent\"><img src=\"https://colab.research.google.com/assets/colab-badge.svg\" alt=\"Open In Colab\"/></a>"
      ]
    },
    {
      "cell_type": "markdown",
      "metadata": {
        "id": "MVHIr1X2ALsC"
      },
      "source": [
        "Importar url + parse"
      ]
    },
    {
      "cell_type": "code",
      "execution_count": null,
      "metadata": {
        "id": "VOVI4CJH-dy-"
      },
      "outputs": [],
      "source": [
        "import requests\n",
        "from bs4 import BeautifulSoup\n",
        "\n",
        "URL = \"https://www.xerblade.com/p/fateextra-walkthrough-enemy-patterns.html?m=0#week1\"\n",
        "\n",
        "page = requests.get(URL)\n",
        "soup = BeautifulSoup(page.content, \"html.parser\")"
      ]
    },
    {
      "cell_type": "markdown",
      "metadata": {
        "id": "ZW75zvbzAQJh"
      },
      "source": [
        "Visualizar ID especifica"
      ]
    },
    {
      "cell_type": "code",
      "execution_count": null,
      "metadata": {
        "id": "vnN3lKWm_uyh"
      },
      "outputs": [],
      "source": [
        "results = soup.find(\"div\", {\"id\": \"rider1\"})\n",
        "#print(results.prettify())"
      ]
    },
    {
      "cell_type": "markdown",
      "metadata": {
        "id": "h5MpIQ86AqpB"
      },
      "source": [
        "HTML Class"
      ]
    },
    {
      "cell_type": "code",
      "execution_count": null,
      "metadata": {
        "id": "y0bdC6hVAuqr",
        "colab": {
          "base_uri": "https://localhost:8080/"
        },
        "outputId": "cfeadeba-54f8-467c-818d-8a76d3e4730d"
      },
      "outputs": [
        {
          "output_type": "stream",
          "name": "stdout",
          "text": [
            "A A A A A B\n",
            "A A B B A B\n",
            "A B A A G B\n",
            "A B A B A B\n",
            "A G A B G A\n",
            "A G A G A G\n",
            "A G A G B A\n",
            "A G B A B B\n",
            "A G * B B A\n",
            "B A B A B A\n",
            "B B A B A B\n",
            "G A G A B A\n",
            "G A G A G A\n",
            "G B G A G A\n",
            "SS B A B A B\n",
            "SS G A G A G\n",
            "A A SA A G A\n",
            "A A SA * A G\n",
            "A B SA A A B\n",
            "A G SA B G G\n",
            "B A SA A B A\n",
            "B A SA A G A\n",
            "G A SA A B A\n",
            "G A SA A G A\n",
            "A B A G A EX\n",
            "B A B A G EX\n",
            "B A G G A EX\n",
            "B * A * A EX\n",
            "G G A G B EX\n",
            "G G B G B EX\n",
            "* B G A B EX\n"
          ]
        }
      ],
      "source": [
        "import pandas as pd\n",
        "import csv\n",
        "import numpy as np\n",
        "\n",
        "servs = results.find_all([\"span\"])\n",
        "del servs[0]\n",
        "\n",
        "with open('teste.csv', 'w', newline='') as file:\n",
        "  write = csv.writer(file)\n",
        "\n",
        "  for span in servs:\n",
        "    #df = span.text\n",
        "    #df = write.writerow(span.text)\n",
        "    print(span.text)\n",
        "\n",
        "#df = pd.read_csv('teste.csv')\n",
        "#print(df)"
      ]
    },
    {
      "cell_type": "code",
      "source": [
        "import re\n",
        "\n",
        "arq = open('nArq.txt', 'r')\n",
        "dataL = arq.read()\n",
        "\n",
        "dataB = str.encode(dataL)\n",
        "\n",
        "print(dataB)\n",
        "\n",
        "# Split the long string into a list of lines\n",
        "data = dataB.decode('utf-8').splitlines()\n",
        "\n",
        "# Open the file for writing\n",
        "with open(\"output.csv\", \"w\") as csv_file:\n",
        "    # Create the writer object with tab delimiter\n",
        "    writer = csv.writer(csv_file, delimiter = '\\t')\n",
        "    for line in data:\n",
        "        # Writerow() needs a list of data to be written, so split at all empty spaces in the line\n",
        "        writer.writerow(re.split('\\s+',line))"
      ],
      "metadata": {
        "colab": {
          "base_uri": "https://localhost:8080/"
        },
        "id": "YmO7BsUKtNfd",
        "outputId": "7352e54f-2294-4698-ed46-79aeee453c52"
      },
      "execution_count": null,
      "outputs": [
        {
          "output_type": "stream",
          "name": "stdout",
          "text": [
            "b'First Second Third Fourth Fifth Sixty\\nA A A A A B\\nA A B B A B\\nA B A A G B\\nA B A B A B\\nA G A B G A\\nA G A G A G\\nA G A G B A\\nA G B A B B\\nA G * B B A\\nB A B A B A\\nB B A B A B\\nG A G A B A\\nG A G A G A\\nG B G A G A\\nSS B A B A B\\nSS G A G A G\\nA A SA A G A\\nA A SA * A G\\nA B SA A A B\\nA G SA B G G\\nB A SA A B A\\nB A SA A G A\\nG A SA A B A\\nG A SA A G A\\nA B A G A EX\\nB A B A G EX\\nB A G G A EX\\nB * A * A EX\\nG G A G B EX\\nG G B G B EX\\n* B G A B EX'\n"
          ]
        }
      ]
    }
  ],
  "metadata": {
    "colab": {
      "provenance": [],
      "authorship_tag": "ABX9TyPAgbpuf/8jcjZxtGefgCFY",
      "include_colab_link": true
    },
    "kernelspec": {
      "display_name": "Python 3",
      "name": "python3"
    },
    "language_info": {
      "name": "python"
    }
  },
  "nbformat": 4,
  "nbformat_minor": 0
}